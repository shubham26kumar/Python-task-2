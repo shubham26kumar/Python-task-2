{
 "cells": [
  {
   "cell_type": "markdown",
   "id": "36f828e4-91a0-4c27-a257-4ca8c82d0b52",
   "metadata": {},
   "source": [
    "Q.1.You are writing code for a company. The requirement of the company is that you create a python \n",
    "function that will check whether the password entered by the user is correct or not. The function should \n",
    "take the password as input and return the string “Valid Password” if the entered password follows the \n",
    "below-given password guidelines else it should return “Invalid Password”.\n",
    "\n",
    "\n",
    "Note: 1. The Password should contain at least two uppercase letters and at least two lowercase letters.\n",
    "\n",
    "2. The Password should contain at least a number and three special characters.\n",
    "\n",
    "3. The length of the password should be 10 characters long"
   ]
  },
  {
   "cell_type": "code",
   "execution_count": 20,
   "id": "4f6b17c6-b876-434b-a79d-d62684e8c784",
   "metadata": {},
   "outputs": [
    {
     "name": "stdin",
     "output_type": "stream",
     "text": [
      "Enter password : @@@SShh123\n"
     ]
    },
    {
     "name": "stdout",
     "output_type": "stream",
     "text": [
      "valid password\n"
     ]
    }
   ],
   "source": [
    "password = input(\"Enter password :\")\n",
    "def checkpassword(password):\n",
    "    \n",
    "    lower = 0 \n",
    "    upper = 0 \n",
    "    number = 0 \n",
    "    special = 0\n",
    "    if len(password)==10:\n",
    "        for i in password:\n",
    "            \n",
    "            if(i.islower()):\n",
    "                lower+=1\n",
    "                \n",
    "            if(i.isupper()):\n",
    "                upper+=1\n",
    "                \n",
    "            if(i.isnumeric()):\n",
    "                number+=1\n",
    "                \n",
    "            if(i==\"@\" or i==\"$\" or i==\"#\"):\n",
    "                special+=1\n",
    "                \n",
    "    if(lower >= 2 and upper >= 2 and number >= 1 and special == 3):\n",
    "        print(\"valid password\")\n",
    "                \n",
    "    else:\n",
    "        print(\"invalid password\")\n",
    "        \n",
    "checkpassword(password)\n",
    "                \n",
    "                \n",
    "        \n",
    "    "
   ]
  },
  {
   "cell_type": "markdown",
   "id": "840c2438-67c4-41fb-97d6-f054c74ab57c",
   "metadata": {},
   "source": [
    "Q2. Solve the below-given questions using at least one of the following: \n",
    "\n",
    "1. Lambda function\n",
    "2. Filter function\n",
    "3. map function\n",
    "4. List Comprehension\n",
    " Check if the string starts with a particular letterY\n",
    "B Check if the string is numeric\n",
    "B Sort a list of tuples having fruit names and their quantity. [(\"mango\",99),(\"orange\",80), (\"grapes\", 1000)]-\n",
    "B Find the squares of numbers from 1 to 10\n",
    "B Find the cube root of numbers from 1 to 10\n",
    "B Check if a given number is even\n",
    "B Filter odd numbers from the given list.\n",
    "\n",
    " [1,2,3,4,5,6,7,8,9,10-\n",
    "B Sort a list of integers into positive and negative integers lists.\n",
    "\n",
    " [1,2,3,4,5,6,-1,-2,-3,-4,-5,0]\n"
   ]
  },
  {
   "cell_type": "markdown",
   "id": "f40bf7ab-5084-4795-b20a-1f79dbfc6b69",
   "metadata": {},
   "source": [
    "                                Check if the string starts with a particular letter"
   ]
  },
  {
   "cell_type": "code",
   "execution_count": 4,
   "id": "327c01c7-4f56-47c3-a578-5b6b13d9a419",
   "metadata": {},
   "outputs": [
    {
     "name": "stdout",
     "output_type": "stream",
     "text": [
      "False\n"
     ]
    }
   ],
   "source": [
    "s = lambda x: True if x.startswith(\"s\") else False\n",
    "print(s(\"mohit\"))"
   ]
  },
  {
   "cell_type": "markdown",
   "id": "10029500-982d-442f-ad2e-9486bd7b30f7",
   "metadata": {},
   "source": [
    "                                 Check if the string is numeric"
   ]
  },
  {
   "cell_type": "code",
   "execution_count": 13,
   "id": "d0bd4d51-7488-43b9-adef-a0a062a9272d",
   "metadata": {},
   "outputs": [
    {
     "name": "stdout",
     "output_type": "stream",
     "text": [
      "True\n"
     ]
    }
   ],
   "source": [
    "is_num = lambda x: x.replace('.','',1).isdigit()\n",
    "print(is_num('12'))\n"
   ]
  },
  {
   "cell_type": "markdown",
   "id": "fa365d00-f385-43ee-807d-f309db481116",
   "metadata": {},
   "source": [
    " Sort a list of tuples having fruit names and their quantity. [(\"mango\",99),(\"orange\",80), (\"grapes\", 1000)]-\n"
   ]
  },
  {
   "cell_type": "code",
   "execution_count": 22,
   "id": "fae02cfd-bf67-4de8-8453-d3e930a019dc",
   "metadata": {},
   "outputs": [
    {
     "name": "stdout",
     "output_type": "stream",
     "text": [
      "[('orange', 80), ('mango', 99), ('grapes', 1000)]\n"
     ]
    }
   ],
   "source": [
    "l = [(\"mango\",99),(\"orange\",80), (\"grapes\", 1000)]\n",
    "\n",
    "def sort(l):\n",
    "    \n",
    "    return (sorted(l, key = lambda x: x[1]))\n",
    "\n",
    "print(sort(l))"
   ]
  },
  {
   "cell_type": "markdown",
   "id": "696ab5be-825b-4398-99cf-a43cf232694f",
   "metadata": {},
   "source": [
    "                          Find the squares of numbers from 1 to 10"
   ]
  },
  {
   "cell_type": "code",
   "execution_count": 23,
   "id": "a3c4ec1a-c38f-4b43-bdef-e798dfc06219",
   "metadata": {},
   "outputs": [],
   "source": [
    "l = list(range(1,11))"
   ]
  },
  {
   "cell_type": "code",
   "execution_count": 24,
   "id": "fc53b2e8-3afc-4a7b-8f6c-7208a78c3ac2",
   "metadata": {},
   "outputs": [
    {
     "data": {
      "text/plain": [
       "[1, 2, 3, 4, 5, 6, 7, 8, 9, 10]"
      ]
     },
     "execution_count": 24,
     "metadata": {},
     "output_type": "execute_result"
    }
   ],
   "source": [
    "l"
   ]
  },
  {
   "cell_type": "code",
   "execution_count": 25,
   "id": "c95c987b-11ce-4ba0-8a15-d0ab635e3645",
   "metadata": {},
   "outputs": [
    {
     "data": {
      "text/plain": [
       "[1, 4, 9, 16, 25, 36, 49, 64, 81, 100]"
      ]
     },
     "execution_count": 25,
     "metadata": {},
     "output_type": "execute_result"
    }
   ],
   "source": [
    "list(map(lambda x : x*x, l))"
   ]
  },
  {
   "cell_type": "markdown",
   "id": "e883ef0c-6ee5-419a-8232-2dd1c1cc5586",
   "metadata": {},
   "source": [
    "                         Find the cube root of numbers from 1 to 10"
   ]
  },
  {
   "cell_type": "code",
   "execution_count": 26,
   "id": "a749abb5-fd02-4a75-a286-a14b7128f3d8",
   "metadata": {},
   "outputs": [
    {
     "data": {
      "text/plain": [
       "[1, 2, 3, 4, 5, 6, 7, 8, 9, 10]"
      ]
     },
     "execution_count": 26,
     "metadata": {},
     "output_type": "execute_result"
    }
   ],
   "source": [
    "l"
   ]
  },
  {
   "cell_type": "code",
   "execution_count": 27,
   "id": "c60c1c08-ca35-4e38-abb6-3474e321219d",
   "metadata": {},
   "outputs": [
    {
     "data": {
      "text/plain": [
       "[1, 8, 27, 64, 125, 216, 343, 512, 729, 1000]"
      ]
     },
     "execution_count": 27,
     "metadata": {},
     "output_type": "execute_result"
    }
   ],
   "source": [
    "list(map(lambda x : x*x*x,l))"
   ]
  },
  {
   "cell_type": "markdown",
   "id": "e9ad153a-732e-4d33-96ae-717baae55a92",
   "metadata": {},
   "source": [
    "                       Check if a given number is even"
   ]
  },
  {
   "cell_type": "code",
   "execution_count": 25,
   "id": "3137b289-319a-4135-bb9f-26ad13e79c5e",
   "metadata": {},
   "outputs": [
    {
     "name": "stdin",
     "output_type": "stream",
     "text": [
      "Enter numer : 3\n"
     ]
    },
    {
     "data": {
      "text/plain": [
       "[False]"
      ]
     },
     "execution_count": 25,
     "metadata": {},
     "output_type": "execute_result"
    }
   ],
   "source": [
    "n = int(input(\"Enter numer :\"))\n",
    "[n%2==0]\n",
    "\n",
    "             \n",
    "        \n",
    "\n"
   ]
  },
  {
   "cell_type": "code",
   "execution_count": null,
   "id": "a2335573-ed3c-43fe-b361-66ac42e5bd0b",
   "metadata": {},
   "outputs": [],
   "source": []
  },
  {
   "cell_type": "markdown",
   "id": "3585afb5-b0c8-4e0f-97ec-f7554a66d979",
   "metadata": {},
   "source": [
    "                               Filter odd numbers from the given list.\n",
    "                                 [1,2,3,4,5,6,7,8,9,10]"
   ]
  },
  {
   "cell_type": "code",
   "execution_count": 15,
   "id": "70e8c55c-5fc0-4b8a-9f5d-ac71ebeaa389",
   "metadata": {},
   "outputs": [
    {
     "name": "stdout",
     "output_type": "stream",
     "text": [
      "Given list :\n",
      "[1, 2, 3, 4, 5, 6, 7, 8, 9, 10]\n",
      "filtered list : [1, 3, 5, 7, 9]\n"
     ]
    }
   ],
   "source": [
    "l1 =  [1,2,3,4,5,6,7,8,9,10]\n",
    "print(\"Given list :\")\n",
    "print(l1)\n",
    "result = filter(lambda x: x%2 != 0,l1)\n",
    "print('filtered list :', list(result))"
   ]
  },
  {
   "cell_type": "markdown",
   "id": "c6ea53e2-972d-4194-9186-61fcc10eeddc",
   "metadata": {},
   "source": [
    "Sort a list of integers into positive and negative integers lists.\n",
    "\n",
    " [1,2,3,4,5,6,-1,-2,-3,-4,-5,0]"
   ]
  },
  {
   "cell_type": "code",
   "execution_count": 17,
   "id": "37b2bb6e-50f8-4e25-bce9-ca8580e677b8",
   "metadata": {},
   "outputs": [
    {
     "name": "stdout",
     "output_type": "stream",
     "text": [
      "Given list :\n",
      "[1, 2, 3, 4, 5, 6, -1, -2, -3, -4, -5, 0]\n",
      "[1, 2, 3, 4, 5, 6, 0]\n",
      "[-1, -2, -3, -4, -5]\n"
     ]
    }
   ],
   "source": [
    "l2 = [1,2,3,4,5,6,-1,-2,-3,-4,-5,0]\n",
    "print(\"Given list :\")\n",
    "print(l2)\n",
    "positive_list = list(filter(lambda x: x>= 0, l2))\n",
    "print(positive_list)\n",
    "negative_list = list(filter(lambda x : x<0, l2))\n",
    "print(negative_list)"
   ]
  },
  {
   "cell_type": "code",
   "execution_count": null,
   "id": "c363f732-df93-4705-b1ea-1a66728d5e33",
   "metadata": {},
   "outputs": [],
   "source": []
  },
  {
   "cell_type": "code",
   "execution_count": null,
   "id": "b6be309f-55cb-4e05-8540-cef9bd1d7ee3",
   "metadata": {},
   "outputs": [],
   "source": []
  }
 ],
 "metadata": {
  "kernelspec": {
   "display_name": "Python 3 (ipykernel)",
   "language": "python",
   "name": "python3"
  },
  "language_info": {
   "codemirror_mode": {
    "name": "ipython",
    "version": 3
   },
   "file_extension": ".py",
   "mimetype": "text/x-python",
   "name": "python",
   "nbconvert_exporter": "python",
   "pygments_lexer": "ipython3",
   "version": "3.10.8"
  }
 },
 "nbformat": 4,
 "nbformat_minor": 5
}
